{
 "cells": [
  {
   "cell_type": "code",
   "execution_count": null,
   "id": "0433af5d-72cf-4927-b1dd-e467c61282e9",
   "metadata": {},
   "outputs": [],
   "source": [
    "from sklearn.model_selection import GridSearchCV, KFold, train_test_split\n",
    "from sklearn.metrics import make_scorer, mean_squared_error\n",
    "from sklearn.preprocessing import StandardScaler\n",
    "from xgboost import plot_importance\n",
    "import matplotlib.pyplot as plt\n",
    "import xgboost as xgb\n",
    "import pandas as pd\n",
    "import numpy as np\n",
    "import time\n",
    "import os"
   ]
  },
  {
   "cell_type": "code",
   "execution_count": null,
   "id": "b8e290f9-823d-46d8-a3a1-50a358a91ef6",
   "metadata": {},
   "outputs": [],
   "source": [
    "# Set option to display all columns\n",
    "pd.set_option('display.max_columns', None)\n",
    "pd.set_option('display.float_format', '{:.6f}'.format)"
   ]
  },
  {
   "cell_type": "code",
   "execution_count": null,
   "id": "2ebe787d-1ef7-476e-850c-29431ac7955b",
   "metadata": {},
   "outputs": [],
   "source": [
    "categorical_features = [\n",
    "    \"OP_CARRIER_AIRLINE_ID\",\n",
    "    \"TAIL_NUM\",\n",
    "    \"OP_CARRIER_FL_NUM\",\n",
    "\n",
    "    \"ORIGIN_AIRPORT_ID\",\n",
    "    \"ORIGIN_CITY_MARKET_ID\",\n",
    "    \"ORIGIN_STATE_FIPS\",\n",
    "    \"ORIGIN_WAC\",\n",
    "    \"DEST_AIRPORT_ID\",\n",
    "    \"DEST_CITY_MARKET_ID\",\n",
    "    \"DEST_STATE_FIPS\",\n",
    "    \"DEST_WAC\",\n",
    "]\n",
    "\n",
    "numerical_features = [\n",
    "    \"QUARTER\",\n",
    "    \"MONTH\",\n",
    "    \"DAY_OF_MONTH\",\n",
    "    \"DAY_OF_WEEK\",\n",
    "\n",
    "    \"CRS_DEP_TIME\",\n",
    "    \"DEP_TIME_BLK\",\n",
    "    \"CRS_ARR_TIME\", \n",
    "    \"ARR_TIME_BLK\",\n",
    "    \"CRS_ELAPSED_TIME\",\n",
    "    \"DISTANCE\",\n",
    "    \"DISTANCE_GROUP\",\n",
    "]\n",
    "\n",
    "target = \"DEP_DELAY_GROUP\""
   ]
  },
  {
   "cell_type": "code",
   "execution_count": null,
   "id": "5f45ac34-2046-4bd0-8012-d2a1304f1966",
   "metadata": {},
   "outputs": [],
   "source": [
    "# Get the current script's directory\n",
    "current_script_dir = os.getcwd()\n",
    "\n",
    "# Move up to the parent directory\n",
    "parent_dir = os.path.dirname(current_script_dir)\n",
    "\n",
    "# Define the sibling data directory name\n",
    "data_dir = os.path.join(parent_dir, 'data')"
   ]
  },
  {
   "cell_type": "code",
   "execution_count": null,
   "id": "187cdf9d-0c0c-480b-a00b-9105e986f2bc",
   "metadata": {},
   "outputs": [],
   "source": [
    "def set_categorical_dtype_to_str(\n",
    "    dataframe: pd.DataFrame, \n",
    "    categorical_columns: list[str]\n",
    ") -> pd.DataFrame:\n",
    "    df = dataframe.copy()\n",
    "    for column in categorical_columns:\n",
    "        df[column] = df[column].astype('category')\n",
    "    return df "
   ]
  },
  {
   "cell_type": "code",
   "execution_count": null,
   "id": "339085fb-1bba-43bb-9ee2-28cbc5c187b4",
   "metadata": {},
   "outputs": [],
   "source": [
    "# Load the 2022 training datset\n",
    "# Use os.path.join to create the full file path\n",
    "training_dataset_filename = \"encoded_training_dataset_2022.csv\"\n",
    "file_path = os.path.join(data_dir, training_dataset_filename)\n",
    "\n",
    "# Read the CSV file into a DataFrame\n",
    "dataset_df = pd.read_csv(file_path)\n",
    "training_df = dataset_df[categorical_features+numerical_features+[target]].copy()\n",
    "\n",
    "# Set dtype of categorical features to category\n",
    "training_df = set_categorical_dtype_to_str(\n",
    "    dataframe=training_df, \n",
    "    categorical_columns=categorical_features\n",
    ")\n",
    "\n",
    "# Display the DataFrame\n",
    "display(training_df.describe())"
   ]
  },
  {
   "cell_type": "code",
   "execution_count": null,
   "id": "2a30ddd8-77b5-46f4-87d6-0919b3466853",
   "metadata": {},
   "outputs": [],
   "source": [
    "# Function to score model using Huber Loss\n",
    "def huber_loss(y_true, y_pred):\n",
    "    delta = np.percentile(y_true, 95)\n",
    "    huber_loss = np.mean(np.where(np.abs(np.array(y_true) -  np.array(y_pred)) <= delta, \n",
    "                                  0.5 * np.square(np.array(y_true) -  np.array(y_pred)), \n",
    "                                  delta * (np.abs(np.array(y_true) -  np.array(y_pred)) - 0.5 * delta)))\n",
    "    return huber_loss\n",
    "    \n",
    "# Wrap the huber_loss function as a scorer for use in GridSearchCV\n",
    "huber_scorer = make_scorer(huber_loss, greater_is_better=False)\n",
    "\n",
    "# Make cross validation strategy\n",
    "cv_strategy = KFold(n_splits=2, shuffle=True, random_state=123)"
   ]
  },
  {
   "cell_type": "code",
   "execution_count": null,
   "id": "dbcd7c13-88a4-49d9-b087-b4feb8237abe",
   "metadata": {},
   "outputs": [],
   "source": [
    "# Start timer\n",
    "start_time = time.time()\n",
    "\n",
    "param_grid = {\n",
    "    'min_child_weight': [8, 9, 10],\n",
    "    'learning_rate': [0.01, 0.1, 0.2],\n",
    "    'max_depth': [3, 5, 7],\n",
    "    'subsample': [0.8, 1.0],\n",
    "    'colsample_bytree': [0.8, 1.0],\n",
    "}\n",
    "\n",
    "model = xgb.XGBRegressor(\n",
    "    objective='reg:pseudohubererror',\n",
    "    random_state=123\n",
    ")\n",
    "\n",
    "grid_search = GridSearchCV(\n",
    "    estimator=model,\n",
    "    param_grid=param_grid,\n",
    "    scoring=huber_scorer,\n",
    "    cv=cv_strategy,\n",
    "    verbose=2,\n",
    "    n_jobs=-1\n",
    ")\n",
    "\n",
    "# Fit the Grid Search with the custom Huber loss as eval_metric\n",
    "grid_search.fit(\n",
    "    training_df[categorical_features+numerical_features].values, \n",
    "    training_df[target].values\n",
    ")\n",
    "\n",
    "best_params = grid_search.best_params_\n",
    "print(\"Best parameters:\", best_params)\n",
    "print(\"Best Huber Loss Score:\", -grid_search.best_score_)\n",
    "\n",
    "# End timer\n",
    "end_time = time.time()\n",
    "# Calculate elapsed time\n",
    "elapsed_time = end_time - start_time\n",
    "print(f\"Execution time: {elapsed_time} seconds\")"
   ]
  }
 ],
 "metadata": {
  "kernelspec": {
   "display_name": "Python 3 (ipykernel)",
   "language": "python",
   "name": "python3"
  },
  "language_info": {
   "codemirror_mode": {
    "name": "ipython",
    "version": 3
   },
   "file_extension": ".py",
   "mimetype": "text/x-python",
   "name": "python",
   "nbconvert_exporter": "python",
   "pygments_lexer": "ipython3",
   "version": "3.12.4"
  }
 },
 "nbformat": 4,
 "nbformat_minor": 5
}
